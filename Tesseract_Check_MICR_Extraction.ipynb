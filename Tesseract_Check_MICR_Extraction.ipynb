{
  "nbformat": 4,
  "nbformat_minor": 0,
  "metadata": {
    "colab": {
      "name": "Tesseract- Check MICR Extraction.ipynb",
      "provenance": [],
      "include_colab_link": true
    },
    "kernelspec": {
      "name": "python3",
      "display_name": "Python 3"
    }
  },
  "cells": [
    {
      "cell_type": "markdown",
      "metadata": {
        "id": "view-in-github",
        "colab_type": "text"
      },
      "source": [
        "<a href=\"https://colab.research.google.com/github/Subhan5838/capstone-project/blob/main/Tesseract_Check_MICR_Extraction.ipynb\" target=\"_parent\"><img src=\"https://colab.research.google.com/assets/colab-badge.svg\" alt=\"Open In Colab\"/></a>"
      ]
    },
    {
      "cell_type": "code",
      "metadata": {
        "id": "AIkcoRQaT4wG",
        "colab": {
          "base_uri": "https://localhost:8080/"
        },
        "outputId": "6b8cabd6-1412-4fe1-8ce4-b39f307dd8c2"
      },
      "source": [
        "! apt install tesseract-ocr\n",
        "! apt install libtesseract-dev"
      ],
      "execution_count": 1,
      "outputs": [
        {
          "output_type": "stream",
          "name": "stdout",
          "text": [
            "Reading package lists... Done\n",
            "Building dependency tree... Done\n",
            "Reading state information... Done\n",
            "tesseract-ocr is already the newest version (4.1.1-2.1build1).\n",
            "0 upgraded, 0 newly installed, 0 to remove and 34 not upgraded.\n",
            "Reading package lists... Done\n",
            "Building dependency tree... Done\n",
            "Reading state information... Done\n",
            "The following additional packages will be installed:\n",
            "  libarchive-dev libleptonica-dev\n",
            "The following NEW packages will be installed:\n",
            "  libarchive-dev libleptonica-dev libtesseract-dev\n",
            "0 upgraded, 3 newly installed, 0 to remove and 34 not upgraded.\n",
            "Need to get 3,743 kB of archives.\n",
            "After this operation, 16.0 MB of additional disk space will be used.\n",
            "Ign:1 http://archive.ubuntu.com/ubuntu jammy-updates/main amd64 libarchive-dev amd64 3.6.0-1ubuntu1.4\n",
            "Get:2 http://archive.ubuntu.com/ubuntu jammy/universe amd64 libleptonica-dev amd64 1.82.0-3build1 [1,562 kB]\n",
            "Get:3 http://archive.ubuntu.com/ubuntu jammy/universe amd64 libtesseract-dev amd64 4.1.1-2.1build1 [1,600 kB]\n",
            "Get:1 http://archive.ubuntu.com/ubuntu jammy-updates/main amd64 libarchive-dev amd64 3.6.0-1ubuntu1.4 [581 kB]\n",
            "Fetched 3,743 kB in 1min 50s (34.1 kB/s)\n",
            "Selecting previously unselected package libarchive-dev:amd64.\n",
            "(Reading database ... 126101 files and directories currently installed.)\n",
            "Preparing to unpack .../libarchive-dev_3.6.0-1ubuntu1.4_amd64.deb ...\n",
            "Unpacking libarchive-dev:amd64 (3.6.0-1ubuntu1.4) ...\n",
            "Selecting previously unselected package libleptonica-dev.\n",
            "Preparing to unpack .../libleptonica-dev_1.82.0-3build1_amd64.deb ...\n",
            "Unpacking libleptonica-dev (1.82.0-3build1) ...\n",
            "Selecting previously unselected package libtesseract-dev:amd64.\n",
            "Preparing to unpack .../libtesseract-dev_4.1.1-2.1build1_amd64.deb ...\n",
            "Unpacking libtesseract-dev:amd64 (4.1.1-2.1build1) ...\n",
            "Setting up libleptonica-dev (1.82.0-3build1) ...\n",
            "Setting up libarchive-dev:amd64 (3.6.0-1ubuntu1.4) ...\n",
            "Setting up libtesseract-dev:amd64 (4.1.1-2.1build1) ...\n",
            "Processing triggers for man-db (2.10.2-1) ...\n"
          ]
        }
      ]
    },
    {
      "cell_type": "code",
      "metadata": {
        "id": "szVERFesNlJ5",
        "colab": {
          "base_uri": "https://localhost:8080/"
        },
        "outputId": "17b4cc30-382e-4ff0-b3a4-c3e232c1a09e"
      },
      "source": [
        "!pip install pytesseract"
      ],
      "execution_count": 2,
      "outputs": [
        {
          "output_type": "stream",
          "name": "stdout",
          "text": [
            "Collecting pytesseract\n",
            "  Downloading pytesseract-0.3.13-py3-none-any.whl.metadata (11 kB)\n",
            "Requirement already satisfied: packaging>=21.3 in /usr/local/lib/python3.11/dist-packages (from pytesseract) (24.2)\n",
            "Requirement already satisfied: Pillow>=8.0.0 in /usr/local/lib/python3.11/dist-packages (from pytesseract) (11.2.1)\n",
            "Downloading pytesseract-0.3.13-py3-none-any.whl (14 kB)\n",
            "Installing collected packages: pytesseract\n",
            "Successfully installed pytesseract-0.3.13\n"
          ]
        }
      ]
    },
    {
      "cell_type": "code",
      "metadata": {
        "id": "AZ8KLItW9OhP",
        "colab": {
          "base_uri": "https://localhost:8080/"
        },
        "outputId": "2b6967b7-e564-4268-bd3d-834d1f8b3470"
      },
      "source": [
        "from google.colab import drive\n",
        "drive.mount('/content/drive')"
      ],
      "execution_count": 3,
      "outputs": [
        {
          "output_type": "stream",
          "name": "stdout",
          "text": [
            "Mounted at /content/drive\n"
          ]
        }
      ]
    },
    {
      "cell_type": "code",
      "metadata": {
        "id": "O8rFKcprN0n-"
      },
      "source": [
        "import pytesseract\n",
        "from PIL import Image\n",
        "import requests\n",
        "from io import BytesIO\n",
        "import cv2\n",
        "import numpy as np"
      ],
      "execution_count": 4,
      "outputs": []
    },
    {
      "cell_type": "code",
      "metadata": {
        "id": "4_0Q0vDeN6Bc",
        "colab": {
          "base_uri": "https://localhost:8080/"
        },
        "outputId": "fc3d1946-6168-4803-c48e-89c52341392c"
      },
      "source": [
        "!ls -alrt /usr/bin/tesseract"
      ],
      "execution_count": 5,
      "outputs": [
        {
          "output_type": "stream",
          "name": "stdout",
          "text": [
            "-rwxr-xr-x 1 root root 35128 Feb  9  2022 /usr/bin/tesseract\n"
          ]
        }
      ]
    },
    {
      "cell_type": "code",
      "metadata": {
        "id": "7vO7hsLBN9dM"
      },
      "source": [
        "pytesseract.pytesseract.tesseract_cmd = r'/usr/bin/tesseract'"
      ],
      "execution_count": 6,
      "outputs": []
    },
    {
      "cell_type": "code",
      "metadata": {
        "id": "cMtFLDFOOky8"
      },
      "source": [
        "#path='https://i0.wp.com/unitedrudrafoundation.com/wp-content/uploads/2019/02/personal_check_single_preprinted_blank.jpg'\n",
        "#content = requests.get(path).content\n",
        "#image = Image.open(BytesIO(content))"
      ],
      "execution_count": 7,
      "outputs": []
    },
    {
      "cell_type": "code",
      "source": [
        "import pytesseract\n",
        "from PIL import Image\n",
        "import requests\n",
        "from io import BytesIO\n",
        "\n",
        "file_id = \"1bhhg1YJLC2lvintVgFs8LFRfwK1_Od8-\"\n",
        "\n",
        "\n",
        "image_url = f\"https://drive.google.com/uc?export=download&id={file_id}\"\n",
        "\n",
        "\n",
        "response = requests.get(image_url)\n",
        "response.raise_for_status()\n",
        "\n",
        "# Open the image using PIL\n",
        "image = Image.open(BytesIO(response.content))\n",
        "\n",
        "# Perform OCR\n",
        "extracted_text = pytesseract.image_to_string(image, lang='eng')\n",
        "print(extracted_text)"
      ],
      "metadata": {
        "id": "WzvXwaz8Y4bb",
        "outputId": "d60f7a50-08a3-4307-8fa7-3ab606f95dce",
        "colab": {
          "base_uri": "https://localhost:8080/"
        }
      },
      "execution_count": 25,
      "outputs": [
        {
          "output_type": "stream",
          "name": "stdout",
          "text": [
            "SBF 06-Jan-11\n",
            "\n",
            " \n",
            "\n",
            "PAYABLE AT ALL OUR BRANCHES IN CLEARING 7\n",
            "\n",
            "Pogy. bs eodertrad ely\n",
            "\n",
            " \n",
            "\n",
            "PTT MST KALWA Branch\n",
            "omy , MIE -— 400 605 THANE, MAHARASHTRA, 400 605\n",
            ";\n",
            "FSC: BKIDOOO0121 st DINESH VITTHAL BORSE\n",
            "\n",
            "wOOOOM LOO AkaSaa ao\n",
            "Se a rr ee cre\n",
            "\n",
            " \n",
            "\f\n"
          ]
        }
      ]
    },
    {
      "cell_type": "code",
      "metadata": {
        "id": "3O5jxXd9S8O7",
        "colab": {
          "base_uri": "https://localhost:8080/"
        },
        "outputId": "e852bd1c-416c-43a0-bde6-19029d4c2687"
      },
      "source": [
        "!wget https://raw.githubusercontent.com/BigPino67/Tesseract-MICR-OCR/master/Tessdata/mcr.traineddata"
      ],
      "execution_count": 26,
      "outputs": [
        {
          "output_type": "stream",
          "name": "stdout",
          "text": [
            "--2025-05-06 06:58:50--  https://raw.githubusercontent.com/BigPino67/Tesseract-MICR-OCR/master/Tessdata/mcr.traineddata\n",
            "Resolving raw.githubusercontent.com (raw.githubusercontent.com)... 185.199.108.133, 185.199.109.133, 185.199.110.133, ...\n",
            "Connecting to raw.githubusercontent.com (raw.githubusercontent.com)|185.199.108.133|:443... connected.\n",
            "HTTP request sent, awaiting response... 200 OK\n",
            "Length: 147363 (144K) [application/octet-stream]\n",
            "Saving to: ‘mcr.traineddata’\n",
            "\n",
            "mcr.traineddata     100%[===================>] 143.91K  --.-KB/s    in 0.03s   \n",
            "\n",
            "2025-05-06 06:58:50 (4.56 MB/s) - ‘mcr.traineddata’ saved [147363/147363]\n",
            "\n"
          ]
        }
      ]
    },
    {
      "cell_type": "code",
      "metadata": {
        "id": "94eedSeUYnKp"
      },
      "source": [
        "!cp mcr.traineddata /usr/share/tesseract-ocr/4.00/tessdata/"
      ],
      "execution_count": 27,
      "outputs": []
    },
    {
      "cell_type": "code",
      "metadata": {
        "id": "jvIP59VUaxCI",
        "colab": {
          "base_uri": "https://localhost:8080/"
        },
        "outputId": "ebb42b5b-4e83-49c9-d610-e68b0ffe7cb8"
      },
      "source": [
        "check_img = cv2.cvtColor(np.array(image), cv2.COLOR_RGB2BGR)\n",
        "micr_img = check_img[625:717, 0:1630]\n",
        "check_img.shape"
      ],
      "execution_count": 28,
      "outputs": [
        {
          "output_type": "execute_result",
          "data": {
            "text/plain": [
              "(731, 1604, 3)"
            ]
          },
          "metadata": {},
          "execution_count": 28
        }
      ]
    },
    {
      "cell_type": "code",
      "metadata": {
        "id": "jr9kv4jkcwot",
        "colab": {
          "base_uri": "https://localhost:8080/",
          "height": 60
        },
        "outputId": "bcb70ea4-9ebf-47a8-bc27-59b8aa0ddd1a"
      },
      "source": [
        "import google.colab.patches\n",
        "google.colab.patches.cv2_imshow(micr_img)"
      ],
      "execution_count": 29,
      "outputs": [
        {
          "output_type": "display_data",
          "data": {
            "text/plain": [
              "<PIL.Image.Image image mode=RGB size=1604x92>"
            ],
            "image/png": "[encoded data removed]",
            "image/jpeg": "[encoded data removed]"
          },
          "metadata": {}
        }
      ]
    },
    {
      "cell_type": "code",
      "metadata": {
        "id": "dK0EkxOzW4xu",
        "colab": {
          "base_uri": "https://localhost:8080/"
        },
        "outputId": "e60bdd1f-e303-426e-f25b-844bc565edcd"
      },
      "source": [
        "print(pytesseract.image_to_string(micr_img,  lang = 'mcr'))"
      ],
      "execution_count": 30,
      "outputs": [
        {
          "output_type": "stream",
          "name": "stdout",
          "text": [
            "c000017c 40001311802 011532c 10\n",
            "\n",
            "1\n",
            "\f\n"
          ]
        }
      ]
    }
  ]
}